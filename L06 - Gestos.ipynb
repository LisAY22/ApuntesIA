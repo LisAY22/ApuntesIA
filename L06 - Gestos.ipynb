{
 "cells": [
  {
   "cell_type": "code",
   "execution_count": 9,
   "id": "5be0650f-2c79-484b-abde-e6dcd9911aac",
   "metadata": {},
   "outputs": [],
   "source": [
    "import mediapipe as mp\n",
    "import cv2"
   ]
  },
  {
   "cell_type": "code",
   "execution_count": 10,
   "id": "538f4924-026d-470d-9541-34c2b0751503",
   "metadata": {},
   "outputs": [],
   "source": [
    "mp_drawing = mp.solutions.drawing_utils\n",
    "mp_hands = mp.solutions.hands"
   ]
  },
  {
   "cell_type": "code",
   "execution_count": 11,
   "id": "422e4a03-d9f0-45bd-a783-b9df2e5ed81a",
   "metadata": {},
   "outputs": [],
   "source": [
    "def distance(p1, p2):\n",
    "    return ((p2.x - p1.x) ** 2 + (p2.y - p1.y) ** 2 + (p2.z - p1.z) ** 2) ** 0.5"
   ]
  },
  {
   "cell_type": "code",
   "execution_count": 12,
   "id": "f68f5c27-c614-4c99-9365-88cd1582787c",
   "metadata": {},
   "outputs": [],
   "source": [
    "def finger_raised(landmarks):\n",
    "    fingers = {\n",
    "        'Pulgar': False,\n",
    "        'Indice': False,\n",
    "        'Medio': False,\n",
    "        'Anular': False,\n",
    "        'Menique': False\n",
    "    }\n",
    "\n",
    "    # Pulgar: comparar eje X (diferente si es mano izquierda o derecha)\n",
    "    # Si la palma está mirando al frente, comparamos 4 y 3\n",
    "    if landmarks[17].x < landmarks[5].x:  \n",
    "        fingers['Pulgar'] = landmarks[4].x > landmarks[3].x\n",
    "    else:  \n",
    "        fingers['Pulgar'] = landmarks[4].x < landmarks[3].x\n",
    "    \n",
    "    fingers['Indice'] = landmarks[8].y < landmarks[6].y\n",
    "    fingers['Medio'] = landmarks[12].y < landmarks[10].y\n",
    "    fingers['Anular'] = landmarks[16].y < landmarks[14].y\n",
    "    fingers['Menique'] = landmarks[20].y < landmarks[18].y\n",
    "\n",
    "    return fingers"
   ]
  },
  {
   "cell_type": "code",
   "execution_count": 13,
   "id": "8183737d-c37f-40f4-8d01-8b835cf37ea5",
   "metadata": {},
   "outputs": [],
   "source": [
    "def fingers_together():\n",
    "    return distance(landmarks[8], landmarks[12]) < 0.13 and distance(landmarks[12], landmarks[16]) < 0.13 and distance(landmarks[16], landmarks[20]) < 0.13    "
   ]
  },
  {
   "cell_type": "code",
   "execution_count": 14,
   "id": "ae13119a-1a1e-4002-b719-a9d1c377f353",
   "metadata": {},
   "outputs": [],
   "source": [
    "# Gesture detection function\n",
    "def gesture_detection(fingers):\n",
    "    # Predefined gestures\n",
    "    if all(fingers.values()) and fingers_together():\n",
    "        return 'Alto ✋'\n",
    "    elif fingers['Menique'] and fingers['Indice'] and not any([fingers['Pulgar'], fingers['Medio'], fingers['Anular']]):\n",
    "        return 'Cuernos 🤘'\n",
    "    elif fingers['Pulgar'] and fingers['Menique'] and not any([fingers['Anular'], fingers['Medio'], fingers['Indice']]):\n",
    "        return 'Llámame 🤙'\n",
    "    elif fingers['Pulgar'] and fingers['Menique'] and fingers['Indice'] and not any ([fingers['Medio'], fingers['Anular']]):\n",
    "        return '\"Te quiero\" 🤟'\n",
    "    # abs -> Valor absoluto\n",
    "    elif fingers['Indice'] and fingers['Medio'] and fingers['Anular'] and fingers['Menique'] and abs(landmarks[12].x - landmarks[16].x) > 0.06 and abs(landmarks[8].x - landmarks[12].x) < 0.05 and abs(landmarks[16].x - landmarks[20].x) < 0.05:\n",
    "        return 'Saludo Vulcano 🖖'\n",
    "    elif not all(fingers.values()):\n",
    "        return 'Puño 👊'\n",
    "    elif fingers['Pulgar'] and fingers['Indice'] and not any([fingers['Medio'], fingers['Anular'], fingers['Menique']]) and distance(landmarks[4], landmarks[8]) < 0.09:\n",
    "        return 'Pinza 🤏'   \n",
    "    elif fingers['Indice'] and not any([fingers['Pulgar'], fingers['Anular'], fingers['Medio'], fingers['Menique']]):\n",
    "        if landmarks[8].x < landmarks[5].x:\n",
    "            return 'Señalar a la izquierda 👈'\n",
    "        else:\n",
    "            return 'Señalar a la derecha 👉'\n",
    "    elif fingers['Indice'] and fingers['Pulgar'] and not any([fingers['Anular'], fingers['Medio'], fingers['Menique']]):\n",
    "        if distance(landmarks[4], landmarks[8]) < 0.50:\n",
    "            return 'Corazón Coreano'\n",
    "    elif fingers['Indice'] and fingers['Medio'] and not any([fingers['Pulgar'], fingers['Anular'], fingers['Menique']]):\n",
    "        return 'Victory ✌️'\n",
    "    elif fingers['Pulgar'] and not any([fingers['Indice'], fingers['Medio'], fingers['Anular'], fingers['Menique']]):\n",
    "        return 'Pulgar arriba 👍'\n",
    "    elif any([fingers['Medio'], fingers['Anular'], fingers['Menique']]) and distance(landmarks[4], landmarks[8]) < 0.05:\n",
    "        return 'Ok 👌'\n",
    "    elif all(fingers.values()):\n",
    "        return 'Mano abierto 🖐️'\n",
    "    else:\n",
    "        return 'Gesto no definido'"
   ]
  },
  {
   "cell_type": "code",
   "execution_count": 15,
   "id": "0922086d-2feb-4651-85fe-76104fb04a2f",
   "metadata": {},
   "outputs": [],
   "source": [
    "cap = cv2.VideoCapture(0)"
   ]
  },
  {
   "cell_type": "code",
   "execution_count": 8,
   "id": "bb07810a-be42-418f-a376-33215e3d93ac",
   "metadata": {},
   "outputs": [],
   "source": [
    "with mp_hands.Hands(\n",
    "    static_image_mode=False,\n",
    "    max_num_hands=2,\n",
    "    min_detection_confidence=0.7,\n",
    "    min_tracking_confidence = 0.7) as hands:\n",
    "   \n",
    "  while cap.isOpened():\n",
    "    success, image = cap.read()\n",
    "    if not success:\n",
    "      print(\"Ignoring empty camera frame.\")\n",
    "      continue\n",
    "\n",
    "    # Flip the image horizontally for a later selfie-view display\n",
    "    image = cv2.flip(image, 1)\n",
    "\n",
    "    image_rgb = cv2.cvtColor(image, cv2.COLOR_BGR2RGB)\n",
    "\n",
    "    results = hands.process(image_rgb)\n",
    "\n",
    "    if results.multi_hand_landmarks:\n",
    "      for hand_landmarks in results.multi_hand_landmarks:\n",
    "        # Draw hand landmarks\n",
    "        mp_drawing.draw_landmarks(\n",
    "            image, hand_landmarks, mp_hands.HAND_CONNECTIONS)\n",
    "        \n",
    "        landmarks = hand_landmarks.landmark\n",
    "\n",
    "        fingers = finger_raised(landmarks)\n",
    "        gesture = gesture_detection(fingers)\n",
    "\n",
    "        # Show gesture detection\n",
    "        cv2.putText(image, f'Gesture: {gesture}', (10,50), cv2.FONT_HERSHEY_SIMPLEX, 1, (0, 255, 0), 2)\n",
    "\n",
    "        # Option\n",
    "        info_fingers = f'Fingers: {[k for k, v in fingers.items() if v]}'\n",
    "        cv2.putText(image, info_fingers, (10, 30), cv2.FONT_HERSHEY_SIMPLEX, 0.7, (25, 255, 0), 2)\n",
    "\n",
    "        if gesture == 'Corazón Coreano':\n",
    "            cap.release()\n",
    "            cv2.destroyAllWindows()\n",
    "            exit()\n",
    "\n",
    "    cv2.imshow('Gesture Tracking', image)\n",
    "    if cv2.waitKey(5) & 0xFF == ord('q'):\n",
    "      break\n",
    "\n",
    "cap.release()\n",
    "cv2.destroyAllWindows()"
   ]
  },
  {
   "cell_type": "code",
   "execution_count": null,
   "id": "2477a0b9-72c4-40c9-bb8c-cc8ba587f40f",
   "metadata": {},
   "outputs": [],
   "source": []
  }
 ],
 "metadata": {
  "kernelspec": {
   "display_name": "Python 3.11",
   "language": "python",
   "name": "python311"
  },
  "language_info": {
   "codemirror_mode": {
    "name": "ipython",
    "version": 3
   },
   "file_extension": ".py",
   "mimetype": "text/x-python",
   "name": "python",
   "nbconvert_exporter": "python",
   "pygments_lexer": "ipython3",
   "version": "3.11.0"
  }
 },
 "nbformat": 4,
 "nbformat_minor": 5
}
