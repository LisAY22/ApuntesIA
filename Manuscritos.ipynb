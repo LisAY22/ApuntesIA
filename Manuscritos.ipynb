{
 "cells": [
  {
   "cell_type": "code",
   "execution_count": 15,
   "id": "48905ef4-46f3-4a71-8d0a-a1d8766085e1",
   "metadata": {},
   "outputs": [
    {
     "name": "stdout",
     "output_type": "stream",
     "text": [
      "Collecting pytesseract\n",
      "  Using cached pytesseract-0.3.13-py3-none-any.whl.metadata (11 kB)\n",
      "Requirement already satisfied: packaging>=21.3 in c:\\users\\lisaj\\appdata\\local\\programs\\python\\python311\\lib\\site-packages (from pytesseract) (24.2)\n",
      "Requirement already satisfied: Pillow>=8.0.0 in c:\\users\\lisaj\\appdata\\local\\programs\\python\\python311\\lib\\site-packages (from pytesseract) (11.1.0)\n",
      "Using cached pytesseract-0.3.13-py3-none-any.whl (14 kB)\n",
      "Installing collected packages: pytesseract\n",
      "Successfully installed pytesseract-0.3.13\n"
     ]
    },
    {
     "name": "stderr",
     "output_type": "stream",
     "text": [
      "\n",
      "[notice] A new release of pip is available: 25.0.1 -> 25.1.1\n",
      "[notice] To update, run: C:\\Users\\lisaj\\AppData\\Local\\Programs\\Python\\Python311\\python.exe -m pip install --upgrade pip\n"
     ]
    }
   ],
   "source": [
    "import sys\n",
    "!{sys.executable} -m pip install pytesseract"
   ]
  },
  {
   "cell_type": "code",
   "execution_count": 16,
   "id": "85d64fd7-4c22-4d14-b8dc-31ddb580b9eb",
   "metadata": {},
   "outputs": [],
   "source": [
    "# Tesseract OCR: Reconocimiento Óptico de Caracteres\n",
    "import pytesseract\n",
    "pytesseract.pytesseract.tesseract_cmd = r\"C:\\Program Files\\Tesseract-OCR\\tesseract.exe\"\n",
    "# Procesamiento de imágenes y video\n",
    "import cv2\n",
    "# Para mostrar imágenes o gráficos rápidamente\n",
    "import matplotlib.pyplot as plt"
   ]
  },
  {
   "cell_type": "code",
   "execution_count": 27,
   "id": "e099ffca-3caa-42e7-9c80-e861250118a9",
   "metadata": {},
   "outputs": [
    {
     "name": "stdout",
     "output_type": "stream",
     "text": [
      "Texto detectado:\n",
      "Hola\n",
      "\n",
      "Mi nombre\n",
      "\n",
      "° Elisa\n",
      "©\n",
      "\n",
      "rab\n",
      "\n"
     ]
    }
   ],
   "source": [
    "# Carga la imagen\n",
    "imagen = cv2.imread('Imagenes/prueba.jpg')\n",
    "\n",
    "# Convertir a escala de grises para mejor reconocimiento\n",
    "imagen = cv2.cvtColor(imagen, cv2.COLOR_BGR2GRAY)\n",
    "\n",
    "# Detectar texto usando pytesseract\n",
    "texto = pytesseract.image_to_string(imagen, lang = 'eng+spa')\n",
    "\n",
    "print(\"Texto detectado:\")\n",
    "print(texto)"
   ]
  },
  {
   "cell_type": "code",
   "execution_count": null,
   "id": "2a1f97ac-d4c7-46e2-a74e-f62a8e843953",
   "metadata": {},
   "outputs": [],
   "source": []
  }
 ],
 "metadata": {
  "kernelspec": {
   "display_name": "Python 3.11",
   "language": "python",
   "name": "python311"
  },
  "language_info": {
   "codemirror_mode": {
    "name": "ipython",
    "version": 3
   },
   "file_extension": ".py",
   "mimetype": "text/x-python",
   "name": "python",
   "nbconvert_exporter": "python",
   "pygments_lexer": "ipython3",
   "version": "3.11.0"
  }
 },
 "nbformat": 4,
 "nbformat_minor": 5
}
