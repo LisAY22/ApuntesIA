{
 "cells": [
  {
   "cell_type": "code",
   "execution_count": 1,
   "id": "7fa161b9-83e4-41ac-a1eb-ec0d06af2835",
   "metadata": {},
   "outputs": [],
   "source": [
    "import cv2\n",
    "import mediapipe as mp"
   ]
  },
  {
   "cell_type": "code",
   "execution_count": 2,
   "id": "92564699-44fd-492a-a959-7c2be0ca1b4c",
   "metadata": {},
   "outputs": [],
   "source": [
    "mp_drawing = mp.solutions.drawing_utils\n",
    "mp_hands = mp.solutions.hands"
   ]
  },
  {
   "cell_type": "code",
   "execution_count": 3,
   "id": "07aa988b-ba23-45e2-8b95-3a544e6a77b1",
   "metadata": {},
   "outputs": [],
   "source": [
    "ruta = 'Imagenes/mano-2.jpg'"
   ]
  },
  {
   "cell_type": "code",
   "execution_count": 4,
   "id": "6ac82676-9c86-41c3-be75-0f69bab9ce21",
   "metadata": {},
   "outputs": [
    {
     "name": "stdout",
     "output_type": "stream",
     "text": [
      "Handedness:  [classification {\n",
      "  index: 1\n",
      "  score: 0.952215672\n",
      "  label: \"Right\"\n",
      "}\n",
      "]\n"
     ]
    }
   ],
   "source": [
    "with mp_hands.Hands(\n",
    "    static_image_mode = True,\n",
    "    max_num_hands = 1,\n",
    "    min_detection_confidence=0.5\n",
    ") as hands:\n",
    "    image = cv2.imread(ruta)\n",
    "    height, width, _ = image.shape\n",
    "    image = cv2.flip(image, 1)\n",
    "    image_rgb = cv2.cvtColor(image, cv2.COLOR_BGR2RGB)\n",
    "    results = hands.process(image_rgb)\n",
    "    print(\"Handedness: \", results.multi_handedness)"
   ]
  },
  {
   "cell_type": "code",
   "execution_count": 5,
   "id": "841225c8-e008-4587-9643-5ea588e3fa48",
   "metadata": {},
   "outputs": [],
   "source": [
    "ruta2 = 'Imagenes/mano.jpg'"
   ]
  },
  {
   "cell_type": "code",
   "execution_count": 9,
   "id": "c38ce307-715c-42c4-a707-5087b0a2d3eb",
   "metadata": {},
   "outputs": [
    {
     "name": "stdout",
     "output_type": "stream",
     "text": [
      "Handedness:  [classification {\n",
      "  index: 1\n",
      "  score: 0.955043197\n",
      "  label: \"Right\"\n",
      "}\n",
      "]\n"
     ]
    }
   ],
   "source": [
    "with mp_hands.Hands(\n",
    "    static_image_mode = True,\n",
    "    max_num_hands = 1,\n",
    "    min_detection_confidence=0.5\n",
    ") as hands:\n",
    "    image = cv2.imread(ruta2)\n",
    "    height, width, _ = image.shape\n",
    "    image = cv2.flip(image, 0)\n",
    "    image_rgb = cv2.cvtColor(image, cv2.COLOR_BGR2RGB)\n",
    "    results = hands.process(image_rgb)\n",
    "    print(\"Handedness: \", results.multi_handedness)"
   ]
  },
  {
   "cell_type": "code",
   "execution_count": 11,
   "id": "2c0931f7-af38-4689-91a9-1e00790cf5f6",
   "metadata": {},
   "outputs": [],
   "source": [
    "ruta3 = 'Imagenes/manos.jpg'"
   ]
  },
  {
   "cell_type": "code",
   "execution_count": 12,
   "id": "09041d30-852c-4d3e-b67a-53f8f818cf74",
   "metadata": {},
   "outputs": [
    {
     "name": "stdout",
     "output_type": "stream",
     "text": [
      "Handedness:  [classification {\n",
      "  index: 0\n",
      "  score: 0.986841381\n",
      "  label: \"Left\"\n",
      "}\n",
      ", classification {\n",
      "  index: 1\n",
      "  score: 0.953673\n",
      "  label: \"Right\"\n",
      "}\n",
      "]\n"
     ]
    }
   ],
   "source": [
    "with mp_hands.Hands(\n",
    "    static_image_mode = True,\n",
    "    max_num_hands = 2,\n",
    "    min_detection_confidence=0.5\n",
    ") as hands:\n",
    "    image = cv2.imread(ruta3)\n",
    "    height, width, _ = image.shape\n",
    "    image = cv2.flip(image, 1)\n",
    "    image_rgb = cv2.cvtColor(image, cv2.COLOR_BGR2RGB)\n",
    "    results = hands.process(image_rgb)\n",
    "    print(\"Handedness: \", results.multi_handedness)"
   ]
  },
  {
   "cell_type": "code",
   "execution_count": null,
   "id": "5c06efca-173b-4d59-ac8a-ed5ac5501c26",
   "metadata": {},
   "outputs": [],
   "source": []
  }
 ],
 "metadata": {
  "kernelspec": {
   "display_name": "Python 3.11",
   "language": "python",
   "name": "python311"
  },
  "language_info": {
   "codemirror_mode": {
    "name": "ipython",
    "version": 3
   },
   "file_extension": ".py",
   "mimetype": "text/x-python",
   "name": "python",
   "nbconvert_exporter": "python",
   "pygments_lexer": "ipython3",
   "version": "3.11.0"
  }
 },
 "nbformat": 4,
 "nbformat_minor": 5
}
