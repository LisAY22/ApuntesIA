{
 "cells": [
  {
   "cell_type": "code",
   "execution_count": 2,
   "id": "2121f770-8270-455b-a690-96f7febe0c74",
   "metadata": {},
   "outputs": [],
   "source": [
    "import cv2\n",
    "import mediapipe as mp \n",
    "import math"
   ]
  },
  {
   "cell_type": "code",
   "execution_count": 3,
   "id": "609ea228-2b21-4091-9d8c-26d1fe5344ae",
   "metadata": {},
   "outputs": [],
   "source": [
    "mp_drawing = mp.solutions.drawing_utils\n",
    "mp_hands = mp.solutions.hands"
   ]
  },
  {
   "cell_type": "code",
   "execution_count": 4,
   "id": "fcf9c0b5-8074-46b2-a845-7857785296ac",
   "metadata": {},
   "outputs": [],
   "source": [
    "def distancia(p1, p2):\n",
    "    return math.sqrt((p2.x - p1.x)**2 + (p2.y - p1.y)**2)"
   ]
  },
  {
   "cell_type": "code",
   "execution_count": 5,
   "id": "5781a804-90de-4f7d-8a00-dd80367a29e2",
   "metadata": {},
   "outputs": [],
   "source": [
    "# Función para determinar si un dedo está levantado \n",
    "def dedo_levantado(landmarks, dedo_tip, dedo_dip, dedo_pip, dedo_mcp, umbral=0.2):\n",
    "    # Comparar la posición \"y\" del punto a la punta en los puntos anteriores\n",
    "    return (\n",
    "        landmarks[dedo_tip].y < landmarks[dedo_dip].y and \n",
    "        landmarks[dedo_dip].y < landmarks[dedo_pip].y and\n",
    "        landmarks[dedo_pip].y < landmarks[dedo_mcp].y \n",
    "    )"
   ]
  },
  {
   "cell_type": "code",
   "execution_count": 24,
   "id": "a700c4c6-d82f-4492-b65d-44938aff339e",
   "metadata": {},
   "outputs": [
    {
     "name": "stdout",
     "output_type": "stream",
     "text": [
      "Handedness: [classification {\n",
      "  index: 0\n",
      "  score: 0.986841381\n",
      "  label: \"Left\"\n",
      "}\n",
      ", classification {\n",
      "  index: 1\n",
      "  score: 0.953673\n",
      "  label: \"Right\"\n",
      "}\n",
      "]\n"
     ]
    }
   ],
   "source": [
    "ruta = \"Imagenes/manos.jpg\"\n",
    "with mp_hands.Hands(\n",
    "    static_image_mode = True,\n",
    "    max_num_hands = 2,\n",
    "    min_detection_confidence = 0.5\n",
    ") as hands:\n",
    "    image = cv2.imread(ruta)\n",
    "    height, width, _ = image.shape\n",
    "    image = cv2.flip(image, 1)\n",
    "    image_rgb = cv2.cvtColor(image, cv2.COLOR_BGR2RGB)\n",
    "    results = hands.process(image_rgb)\n",
    "\n",
    "    print(\"Handedness:\", results.multi_handedness)"
   ]
  },
  {
   "cell_type": "code",
   "execution_count": 25,
   "id": "1892d0bc-3c8b-41fc-99a1-2f4a9c9528f8",
   "metadata": {},
   "outputs": [
    {
     "name": "stdout",
     "output_type": "stream",
     "text": [
      "Dedos levantados: ['Pulgar', 'Indice', 'Medio', 'Anular', 'Menique']\n",
      "Dedos levantados: ['Pulgar', 'Indice', 'Medio', 'Anular', 'Menique']\n"
     ]
    }
   ],
   "source": [
    "if results.multi_hand_landmarks: \n",
    "    for hands_landmarks in results.multi_hand_landmarks:\n",
    "        # Dibujar las marcas y conexiones \n",
    "        mp_drawing.draw_landmarks(image, hands_landmarks, mp_hands.HAND_CONNECTIONS)\n",
    "        # Obtener las marcas como una lista \n",
    "        landmarks = hands_landmarks.landmark\n",
    "        # Definir los índices de los puntos de los dedos (Según MediaPipe)\n",
    "        PULGAR_TIP = 4\n",
    "        INDICE_TIP = 8\n",
    "        MEDIO_TIP = 12\n",
    "        ANULAR_TIP = 16\n",
    "        MENIQUE_TIP = 20\n",
    "        # Puntos para cada dedo (tip, dip, pip, mcp)\n",
    "        dedos = {\n",
    "            'Pulgar': (PULGAR_TIP, 2, 1, 0),\n",
    "            'Indice': (INDICE_TIP, 6, 5, 0),\n",
    "            'Medio': (MEDIO_TIP, 10, 9, 0),\n",
    "            'Anular': (ANULAR_TIP, 14, 13, 0),\n",
    "            'Menique': (MENIQUE_TIP, 18, 17, 0)\n",
    "        }\n",
    "        # Verificar qué dedos están levatados \n",
    "        dedos_levantados = []\n",
    "        for nombre, (tip, dip, pip, mcp) in dedos.items():\n",
    "            if dedo_levantado(landmarks, tip, dip, pip, mcp):\n",
    "                dedos_levantados.append(nombre)\n",
    "        print(\"Dedos levantados:\", dedos_levantados)"
   ]
  },
  {
   "cell_type": "code",
   "execution_count": 26,
   "id": "41f9a118-8063-4ba0-a64c-06be5e5bfba3",
   "metadata": {},
   "outputs": [
    {
     "data": {
      "text/plain": [
       "array([[[21, 22, 18],\n",
       "        [21, 22, 18],\n",
       "        [22, 23, 19],\n",
       "        ...,\n",
       "        [16, 17, 13],\n",
       "        [16, 17, 13],\n",
       "        [16, 17, 13]],\n",
       "\n",
       "       [[21, 22, 18],\n",
       "        [21, 22, 18],\n",
       "        [22, 23, 19],\n",
       "        ...,\n",
       "        [16, 17, 13],\n",
       "        [16, 17, 13],\n",
       "        [16, 17, 13]],\n",
       "\n",
       "       [[22, 23, 19],\n",
       "        [22, 23, 19],\n",
       "        [21, 22, 18],\n",
       "        ...,\n",
       "        [16, 17, 13],\n",
       "        [16, 17, 13],\n",
       "        [16, 17, 13]],\n",
       "\n",
       "       ...,\n",
       "\n",
       "       [[12, 13,  9],\n",
       "        [12, 13,  9],\n",
       "        [12, 13,  9],\n",
       "        ...,\n",
       "        [11, 12,  8],\n",
       "        [11, 12,  8],\n",
       "        [11, 12,  8]],\n",
       "\n",
       "       [[12, 13,  9],\n",
       "        [12, 13,  9],\n",
       "        [12, 13,  9],\n",
       "        ...,\n",
       "        [11, 12,  8],\n",
       "        [11, 12,  8],\n",
       "        [11, 12,  8]],\n",
       "\n",
       "       [[12, 13,  9],\n",
       "        [12, 13,  9],\n",
       "        [12, 13,  9],\n",
       "        ...,\n",
       "        [11, 12,  8],\n",
       "        [11, 12,  8],\n",
       "        [11, 12,  8]]], dtype=uint8)"
      ]
     },
     "execution_count": 26,
     "metadata": {},
     "output_type": "execute_result"
    }
   ],
   "source": [
    "    # Mostrar los dedos levantados en la imagen \n",
    "    cv2.putText(image, f\"Dedos: {','.join(dedos_levantados)}\", (10, 30), cv2.FONT_HERSHEY_SIMPLEX, 1, (0, 255, 0), 2)"
   ]
  },
  {
   "cell_type": "code",
   "execution_count": 27,
   "id": "225fae12-c23a-44ee-a502-34d99eeb50f5",
   "metadata": {},
   "outputs": [],
   "source": [
    "    # Mostrar la imagen resultante \n",
    "    cv2.imshow('Imagen', image)\n",
    "    cv2.waitKey(0)\n",
    "    cv2.destroyAllWindows()"
   ]
  },
  {
   "cell_type": "code",
   "execution_count": null,
   "id": "01579b82-62e5-4c64-b14b-63b67c28242a",
   "metadata": {},
   "outputs": [],
   "source": []
  }
 ],
 "metadata": {
  "kernelspec": {
   "display_name": "Python 3.11",
   "language": "python",
   "name": "python311"
  },
  "language_info": {
   "codemirror_mode": {
    "name": "ipython",
    "version": 3
   },
   "file_extension": ".py",
   "mimetype": "text/x-python",
   "name": "python",
   "nbconvert_exporter": "python",
   "pygments_lexer": "ipython3",
   "version": "3.11.0"
  }
 },
 "nbformat": 4,
 "nbformat_minor": 5
}
